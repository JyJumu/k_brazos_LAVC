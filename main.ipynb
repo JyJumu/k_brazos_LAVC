{
  "nbformat": 4,
  "nbformat_minor": 0,
  "metadata": {
    "colab": {
      "provenance": [],
      "authorship_tag": "ABX9TyPtDCLextyR0/oFzCWc87tI",
      "include_colab_link": true
    },
    "kernelspec": {
      "name": "python3",
      "display_name": "Python 3"
    },
    "language_info": {
      "name": "python"
    }
  },
  "cells": [
    {
      "cell_type": "markdown",
      "metadata": {
        "id": "view-in-github",
        "colab_type": "text"
      },
      "source": [
        "<a href=\"https://colab.research.google.com/github/JyJumu/k_brazos_LAVC/blob/main/main.ipynb\" target=\"_parent\"><img src=\"https://colab.research.google.com/assets/colab-badge.svg\" alt=\"Open In Colab\"/></a>"
      ]
    },
    {
      "cell_type": "markdown",
      "source": [
        "    Authors: Jesús Verdú Chacón\n",
        "             Jorge López Abad\n",
        "    Emails: jesus.v.c@um.es\n",
        "            jorge.lopeza@um.es\n",
        "    Date: 2025/01/29\n"
      ],
      "metadata": {
        "id": "DpqIm4uE5hqO"
      }
    },
    {
      "cell_type": "code",
      "source": [
        "#@title Copiar el repositorio.\n",
        "\n",
        "!git clone https://github.com/JyJumu/k_brazos_LAVC.git\n",
        "!cd k_brazos_LAVC/"
      ],
      "metadata": {
        "colab": {
          "base_uri": "https://localhost:8080/"
        },
        "id": "aYN974O--B8G",
        "outputId": "e59b0c64-4b69-48d0-ca44-488e52092985"
      },
      "execution_count": 1,
      "outputs": [
        {
          "output_type": "stream",
          "name": "stdout",
          "text": [
            "Cloning into 'k_brazos_LAVC'...\n",
            "remote: Enumerating objects: 493, done.\u001b[K\n",
            "remote: Counting objects: 100% (116/116), done.\u001b[K\n",
            "remote: Compressing objects: 100% (107/107), done.\u001b[K\n",
            "remote: Total 493 (delta 50), reused 1 (delta 1), pack-reused 377 (from 2)\u001b[K\n",
            "Receiving objects: 100% (493/493), 10.68 MiB | 14.01 MiB/s, done.\n",
            "Resolving deltas: 100% (254/254), done.\n"
          ]
        }
      ]
    },
    {
      "cell_type": "code",
      "source": [
        "\n",
        "#@title Importamos todas las clases y funciones\n",
        "\n",
        "import sys\n",
        "\n",
        "# Añadir los directorio fuentes al path de Python\n",
        "#sys.path.append('/content/EML')\n",
        "sys.path.append('/content/k_brazos_LAVC/src')\n",
        "\n",
        "\n",
        "# Verificar que se han añadido correctamente\n",
        "print(sys.path)\n",
        "\n",
        "import numpy as np\n",
        "from typing import List\n",
        "import matplotlib.pyplot as plt\n",
        "\n",
        "from algorithms import Algorithm, EpsilonGreedy, UCB1, UCB2, Softmax, Gradiente\n",
        "from arms import ArmNormal, Bandit, ArmBernoulli, ArmBinomial\n",
        "from plotting import plot_average_rewards, plot_optimal_selections, plot_regret, plot_arm_statistics, plot_arm_num_choices\n"
      ],
      "metadata": {
        "colab": {
          "base_uri": "https://localhost:8080/"
        },
        "id": "5uA94IIH-Dm_",
        "outputId": "1b8045bc-cb34-40d5-800e-85b671773494"
      },
      "execution_count": 2,
      "outputs": [
        {
          "output_type": "stream",
          "name": "stdout",
          "text": [
            "['/content', '/env/python', '/usr/lib/python311.zip', '/usr/lib/python3.11', '/usr/lib/python3.11/lib-dynload', '', '/usr/local/lib/python3.11/dist-packages', '/usr/lib/python3/dist-packages', '/usr/local/lib/python3.11/dist-packages/IPython/extensions', '/root/.ipython', '/content/k_brazos_LAVC/src']\n"
          ]
        }
      ]
    },
    {
      "cell_type": "markdown",
      "source": [
        "Este notebook sirve como enlace para poder acceder a todos los notebooks que hemos desarrollado. Los enlaces se muestran a continuación:"
      ],
      "metadata": {
        "id": "Iv7eUOv49xnn"
      }
    },
    {
      "cell_type": "markdown",
      "source": [
        "# Acceso rápido a notebooks\n",
        "- [📓 Notebook usando $\\epsilon$-greedy con una distribución normal](https://colab.research.google.com/github/JyJumu/k_brazos_LAVC/blob/main/epsilongreedy_EML_normal.ipynb)\n",
        "- [📓 Notebook usando Softmax con una distribución normal](https://colab.research.google.com/github/JyJumu/k_brazos_LAVC/blob/main/Softmax_EML_normal.ipynb)\n",
        "- [📓 Notebook usando Softmax con una distribución binomal](https://colab.research.google.com/github/JyJumu/k_brazos_LAVC/blob/main/Softmax_EML_binomial.ipynb)\n",
        "- [📓 Notebook usando Softmax con una distribución Bernoulli](https://colab.research.google.com/github/JyJumu/k_brazos_LAVC/blob/main/Softmax_EML_bernoulli.ipynb)\n",
        "- [📓 Notebook usando UCB con una distribución normal](https://colab.research.google.com/github/JyJumu/k_brazos_LAVC/blob/main/UCB_EML_normal.ipynb)\n",
        "- [📓 Notebook usando UCB con una distribución binomal](https://colab.research.google.com/github/JyJumu/k_brazos_LAVC/blob/main/UCB_EML_binomial.ipynb)\n",
        "- [📓 Notebook usando UCB con una distribución Bernoulli](https://colab.research.google.com/github/JyJumu/k_brazos_LAVC/blob/main/UCB_EML_bernoulli.ipynb)"
      ],
      "metadata": {
        "id": "EKRgOxfn6loe"
      }
    }
  ]
}